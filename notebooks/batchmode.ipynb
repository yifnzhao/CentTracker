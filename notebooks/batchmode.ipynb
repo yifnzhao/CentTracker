{
 "cells": [
  {
   "cell_type": "markdown",
   "metadata": {},
   "source": [
    "# Batch mode: register and pair \n",
    "\n",
    "First, provide the root."
   ]
  },
  {
   "cell_type": "code",
   "execution_count": null,
   "metadata": {},
   "outputs": [],
   "source": [
    "## specify file paths related to movie registration\n",
    "root = '../data/'\n"
   ]
  },
  {
   "cell_type": "code",
   "execution_count": null,
   "metadata": {},
   "outputs": [],
   "source": []
  },
  {
   "cell_type": "code",
   "execution_count": null,
   "metadata": {},
   "outputs": [],
   "source": [
    "## import necessary packages and utility functions\n",
    "import sys\n",
    "sys.path.append('../src/')\n",
    "from utils import *\n",
    "from registration_utils import *\n",
    "import os\n",
    "import pickle"
   ]
  },
  {
   "cell_type": "markdown",
   "metadata": {},
   "source": [
    "## Module 1:  movie registration"
   ]
  },
  {
   "cell_type": "code",
   "execution_count": null,
   "metadata": {
    "scrolled": true
   },
   "outputs": [],
   "source": [
    "# get all movienames\n",
    "(_,movie_names,_) = next(os.walk(root))\n",
    "print('Folders detected: ')\n",
    "for m in movie_names:\n",
    "    print(m)"
   ]
  },
  {
   "cell_type": "code",
   "execution_count": null,
   "metadata": {},
   "outputs": [],
   "source": [
    "for movie_name in movie_names:\n",
    "    print(movie_name)\n",
    "    ## register\n",
    "    try:\n",
    "        register_movie(root, movie_name, pad=True)\n",
    "    except IndexError:\n",
    "        print(\"IndexError encountered in movie {}... check your ROI\".format(movie_name))\n",
    "        pass # proceed to the next movie"
   ]
  },
  {
   "cell_type": "markdown",
   "metadata": {},
   "source": [
    "## Module 3: track pair classification\n",
    "Specify file paths related to track pairing, if different from above"
   ]
  },
  {
   "cell_type": "code",
   "execution_count": null,
   "metadata": {},
   "outputs": [],
   "source": [
    "root = '../data/'\n",
    "\n",
    "## specify file paths related to track pairing\n",
    "model_path = '../src/myModel.sav'"
   ]
  },
  {
   "cell_type": "code",
   "execution_count": null,
   "metadata": {},
   "outputs": [],
   "source": [
    "for movie_name in movie_names:\n",
    "    print(movie_name)\n",
    "\n",
    "    originalMovie = '{}/{}/{}.tif'.format(root,movie_name,movie_name)\n",
    "    registeredXML = '{}/{}/r_{}.xml'.format(root,movie_name,movie_name)\n",
    "    out_folder ='{}/{}/'.format(root,movie_name)\n",
    "    out_csv='{}/r_{}.txt'.format(out_folder,movie_name)\n",
    "    out_coords = '{}/r_{}_coords.txt'.format(out_folder,movie_name)\n",
    "    out_cellid = '{}/r_{}_cellIDs.txt'.format(out_folder,movie_name)\n",
    "    ## load classifier\n",
    "    model = pickle.load(open(model_path, 'rb'))\n",
    "\n",
    "    ## pair the tracks\n",
    "    pair(model,registeredXML,originalMovie,out_folder,out_csv,\n",
    "                     maxdist=11,mindist=4,maxcongdist=4,minoverlap=10)\n",
    "\n",
    "    spots2coords(out_csv,out_coords,out_cellid)"
   ]
  },
  {
   "cell_type": "code",
   "execution_count": null,
   "metadata": {},
   "outputs": [],
   "source": []
  },
  {
   "cell_type": "code",
   "execution_count": null,
   "metadata": {},
   "outputs": [],
   "source": []
  }
 ],
 "metadata": {
  "kernelspec": {
   "display_name": "Python 3",
   "language": "python",
   "name": "python3"
  },
  "language_info": {
   "codemirror_mode": {
    "name": "ipython",
    "version": 3
   },
   "file_extension": ".py",
   "mimetype": "text/x-python",
   "name": "python",
   "nbconvert_exporter": "python",
   "pygments_lexer": "ipython3",
   "version": "3.7.4"
  }
 },
 "nbformat": 4,
 "nbformat_minor": 4
}
