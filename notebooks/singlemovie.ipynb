{
 "cells": [
  {
   "cell_type": "markdown",
   "metadata": {},
   "source": [
    "# Register and pair for a single movie\n",
    "\n",
    "First, provide root and movie names."
   ]
  },
  {
   "cell_type": "code",
   "execution_count": 1,
   "metadata": {},
   "outputs": [],
   "source": [
    "## specify file paths related to movie registration\n",
    "root = '../data/'\n",
    "movie_name = '2018-01-16_GSC_L4_L4440_RNAi'"
   ]
  },
  {
   "cell_type": "code",
   "execution_count": null,
   "metadata": {},
   "outputs": [],
   "source": []
  },
  {
   "cell_type": "code",
   "execution_count": 2,
   "metadata": {},
   "outputs": [],
   "source": [
    "## import necessary packages and utility functions\n",
    "import sys\n",
    "sys.path.append('../src/')\n",
    "from utils import *\n",
    "from registration_utils import *\n",
    "import os\n",
    "import pickle"
   ]
  },
  {
   "cell_type": "markdown",
   "metadata": {},
   "source": [
    "## Module 1:  movie registration"
   ]
  },
  {
   "cell_type": "code",
   "execution_count": null,
   "metadata": {
    "scrolled": true
   },
   "outputs": [],
   "source": [
    "## register\n",
    "register_movie(root, movie_name, pad=True)"
   ]
  },
  {
   "cell_type": "markdown",
   "metadata": {},
   "source": [
    "## Module 3: track pair classification\n",
    "Specify file paths related to track pairing, if different from above"
   ]
  },
  {
   "cell_type": "code",
   "execution_count": 3,
   "metadata": {},
   "outputs": [],
   "source": [
    "root = '../data/'\n",
    "movie_name = '2018-01-16_GSC_L4_L4440_RNAi'\n",
    "\n",
    "## specify file paths related to track pairing\n",
    "model_path = '../src/myModel.sav'"
   ]
  },
  {
   "cell_type": "code",
   "execution_count": 4,
   "metadata": {},
   "outputs": [
    {
     "name": "stdout",
     "output_type": "stream",
     "text": [
      "Original movie: ../data//2018-01-16_GSC_L4_L4440_RNAi/2018-01-16_GSC_L4_L4440_RNAi.tif\n",
      "Input parameters: \n",
      "maxdist (um):  11\n",
      "mindist (um) :  4\n",
      "maxcongdist (um) :  4\n",
      "minoverlap (s)  30\n",
      "framerate (per sec):  30.433\n",
      "Total number of tracks: 254\n",
      "Potential pairs generated.\n",
      "Predictions generated.\n",
      "Number of cells found: 7\n"
     ]
    }
   ],
   "source": [
    "originalMovie = '{}/{}/{}.tif'.format(root,movie_name,movie_name)\n",
    "registeredXML = '{}/{}/r_{}.xml'.format(root,movie_name,movie_name)\n",
    "out_folder ='{}/{}/'.format(root,movie_name)\n",
    "out_csv='{}/r_{}.txt'.format(out_folder,movie_name)\n",
    "out_coords = '{}/r_{}_coords.txt'.format(out_folder,movie_name)\n",
    "out_cellid = '{}/r_{}_cellIDs.txt'.format(out_folder,movie_name)\n",
    "## load classifier\n",
    "model = pickle.load(open(model_path, 'rb'))\n",
    "\n",
    "## pair the tracks\n",
    "pair(model,registeredXML,originalMovie,out_folder,out_csv,\n",
    "                 maxdist=11,mindist=4,maxcongdist=4,minoverlap=10)\n",
    "spots2coords(out_csv,out_coords,out_cellid)"
   ]
  },
  {
   "cell_type": "code",
   "execution_count": null,
   "metadata": {},
   "outputs": [],
   "source": []
  },
  {
   "cell_type": "code",
   "execution_count": null,
   "metadata": {},
   "outputs": [],
   "source": []
  },
  {
   "cell_type": "code",
   "execution_count": null,
   "metadata": {},
   "outputs": [],
   "source": []
  },
  {
   "cell_type": "code",
   "execution_count": null,
   "metadata": {},
   "outputs": [],
   "source": []
  },
  {
   "cell_type": "code",
   "execution_count": null,
   "metadata": {},
   "outputs": [],
   "source": []
  },
  {
   "cell_type": "code",
   "execution_count": null,
   "metadata": {},
   "outputs": [],
   "source": []
  },
  {
   "cell_type": "code",
   "execution_count": null,
   "metadata": {},
   "outputs": [],
   "source": []
  },
  {
   "cell_type": "code",
   "execution_count": null,
   "metadata": {},
   "outputs": [],
   "source": []
  },
  {
   "cell_type": "code",
   "execution_count": null,
   "metadata": {},
   "outputs": [],
   "source": []
  },
  {
   "cell_type": "code",
   "execution_count": null,
   "metadata": {},
   "outputs": [],
   "source": []
  },
  {
   "cell_type": "code",
   "execution_count": null,
   "metadata": {},
   "outputs": [],
   "source": []
  }
 ],
 "metadata": {
  "kernelspec": {
   "display_name": "Python 3",
   "language": "python",
   "name": "python3"
  },
  "language_info": {
   "codemirror_mode": {
    "name": "ipython",
    "version": 3
   },
   "file_extension": ".py",
   "mimetype": "text/x-python",
   "name": "python",
   "nbconvert_exporter": "python",
   "pygments_lexer": "ipython3",
   "version": "3.7.4"
  }
 },
 "nbformat": 4,
 "nbformat_minor": 4
}
